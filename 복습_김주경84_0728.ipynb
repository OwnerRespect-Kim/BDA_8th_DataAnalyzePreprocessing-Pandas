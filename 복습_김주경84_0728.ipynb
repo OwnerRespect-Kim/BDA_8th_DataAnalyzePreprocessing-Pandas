{
 "cells": [
  {
   "cell_type": "code",
   "execution_count": 10,
   "metadata": {},
   "outputs": [],
   "source": [
    "import nltk\n",
    "## 표제어 추출\n",
    "## 단어 기본형 변환\n",
    "## cooking cook, cooks, cookie, cookbooks 등등으로 변환이 될 수 있다.\n",
    "## 여기서 표제어를 추출하고자 한다.\n",
    "from nltk.stem import WordNetLemmatizer # WordNet 데이터베이스를 사용하여 단어의 기본 형태를 추출하는 표제어 추출기\n",
    "\n",
    "lemm = WordNetLemmatizer()"
   ]
  },
  {
   "cell_type": "code",
   "execution_count": 54,
   "metadata": {},
   "outputs": [
    {
     "name": "stdout",
     "output_type": "stream",
     "text": [
      "taking\n",
      "take\n",
      "takenss\n",
      "taker\n",
      "take\n"
     ]
    }
   ],
   "source": [
    "print(lemm.lemmatize('takings'))\n",
    "print(lemm.lemmatize('takess'))\n",
    "print(lemm.lemmatize('taken'))\n",
    "print(lemm.lemmatize('takers'))\n",
    "print(lemm.lemmatize('takes'))"
   ]
  },
  {
   "cell_type": "code",
   "execution_count": 9,
   "metadata": {},
   "outputs": [
    {
     "name": "stdout",
     "output_type": "stream",
     "text": [
      "[('Deep', 'JJ'), ('learning', 'NN'), ('is', 'VBZ'), ('the', 'DT'), ('subset', 'NN'), ('of', 'IN'), ('machine', 'NN'), ('learning', 'VBG'), ('methods', 'NNS'), ('based', 'VBN'), ('on', 'IN'), ('artificial', 'JJ'), ('neural', 'JJ'), ('networks', 'NNS'), ('with', 'IN'), ('representation', 'NN'), ('learning', 'NN'), ('.', '.'), ('The', 'DT'), ('adjective', 'JJ'), ('``', '``'), ('deep', 'JJ'), (\"''\", \"''\"), ('refers', 'NNS'), ('to', 'TO'), ('the', 'DT'), ('use', 'NN'), ('of', 'IN'), ('multiple', 'JJ'), ('layers', 'NNS'), ('in', 'IN'), ('the', 'DT'), ('network', 'NN'), ('.', '.'), ('Methods', 'NNS'), ('used', 'VBD'), ('can', 'MD'), ('be', 'VB'), ('either', 'RB'), ('supervised', 'VBN'), (',', ','), ('semi-supervised', 'JJ'), ('or', 'CC'), ('unsupervised', 'JJ'), ('.', '.'), ('[', '$'), ('2', 'CD'), (']', 'NN')]\n"
     ]
    }
   ],
   "source": [
    "## 품사 태깅\n",
    "## 토큰화 같은 경우는 정규화 과정을 통해서 나온 결과를 형태소 정리한 내용\n",
    "## 형태소라는 건 의미를 가지고 있는 작은 말의 단위, 더 나누게 되면 본래 뜻을 잃을 수 있다.\n",
    "## 형태소를 형, 태, 소로 각각 나누면 의미가 사라진다.\n",
    "## 형태소까지 가지 않더라도, 텍스트마이닝에서 품사라는 것을 사용해서 좀 더 의미를 잃지 않고 학습시킬 수 있다.\n",
    "\n",
    "## 명사, 대명사, 동사, 형용사...\n",
    "## 명사는 어떤 식으로 사용하는지, 동사는 어떤 식으로 사용하는지 명칭\n",
    "\n",
    "from nltk.tokenize import word_tokenize\n",
    "tk = word_tokenize('Deep learning is the subset of machine learning methods based on artificial neural networks with representation learning. The adjective \"deep\" refers to the use of multiple layers in the network. Methods used can be either supervised, semi-supervised or unsupervised.[2]')\n",
    "print(nltk.pos_tag(tk))"
   ]
  },
  {
   "cell_type": "code",
   "execution_count": 11,
   "metadata": {},
   "outputs": [],
   "source": [
    "wt_tag = ['JJ']\n",
    "jj_tag = [word for word, tag in nltk.pos_tag(tk) if tag in wt_tag]"
   ]
  },
  {
   "cell_type": "code",
   "execution_count": 12,
   "metadata": {},
   "outputs": [
    {
     "data": {
      "text/plain": [
       "['Deep',\n",
       " 'artificial',\n",
       " 'neural',\n",
       " 'adjective',\n",
       " 'deep',\n",
       " 'multiple',\n",
       " 'semi-supervised',\n",
       " 'unsupervised']"
      ]
     },
     "execution_count": 12,
     "metadata": {},
     "output_type": "execute_result"
    }
   ],
   "source": [
    "jj_tag"
   ]
  },
  {
   "cell_type": "markdown",
   "metadata": {},
   "source": [
    "## 한글 형태소 분석, 품사 태깅 가능"
   ]
  },
  {
   "cell_type": "code",
   "execution_count": 14,
   "metadata": {},
   "outputs": [],
   "source": [
    "## KoNLPy(kkma, twitter, mecab, okt, hannaum)\n",
    "## 품사 태깅 등, 전처리 패키지가 다양하다.\n",
    "## https://konlpy.org/ko/latest/\n",
    "\n",
    "from konlpy.tag import Okt"
   ]
  },
  {
   "cell_type": "code",
   "execution_count": 55,
   "metadata": {},
   "outputs": [],
   "source": [
    "# 패키지를 불러오기!\n",
    "k = Okt()\n",
    "\n",
    "# Okt\n",
    "# morphase(pharse) : 텍스트를 형태소 단위로 분리\n",
    "# nouns(phrase) : 명사만 분리해서 보여준다.\n",
    "# pos(phrase) : 태깅해서 보여준다.\n",
    "\n",
    "data = '''### Bow (Bag of Words) 말뭉치에 한계가 있어서 -> TF-IDF의 방식을 사용한다.\n",
    "\n",
    "- 의문 제기 : 카운트 벡터는 빈도가 높을수록 중요한 단어 아닌가?  \n",
    "- 모든 문서에 동일하게 특정 키워드가 계속 나오면 이게 과연 중요한 건가?  \n",
    "- 여러분, 여러분 여러분, 단순하게 카운팅으로 봐서 빈도가 높으면 다 중요한가?  \n",
    "  \n",
    "- 단어가 더 많은 문서에 나타날수록 오히려 그 단어는 별로 중요하지 않다.  \n",
    "- TF-IDF(Term Frequency - Inverse Document Frequency) 단어빈도 - 역문서빈도\n",
    "'''"
   ]
  },
  {
   "cell_type": "code",
   "execution_count": 56,
   "metadata": {},
   "outputs": [
    {
     "data": {
      "text/plain": [
       "'### Bow (Bag of Words) 말뭉치에 한계가 있어서 -> TF-IDF의 방식을 사용한다.\\n\\n- 의문 제기 : 카운트 벡터는 빈도가 높을수록 중요한 단어 아닌가?  \\n- 모든 문서에 동일하게 특정 키워드가 계속 나오면 이게 과연 중요한 건가?  \\n- 여러분, 여러분 여러분, 단순하게 카운팅으로 봐서 빈도가 높으면 다 중요한가?  \\n  \\n- 단어가 더 많은 문서에 나타날수록 오히려 그 단어는 별로 중요하지 않다.  \\n- TF-IDF(Term Frequency - Inverse Document Frequency) 단어빈도 - 역문서빈도\\n'"
      ]
     },
     "execution_count": 56,
     "metadata": {},
     "output_type": "execute_result"
    }
   ],
   "source": [
    "data"
   ]
  },
  {
   "cell_type": "code",
   "execution_count": 57,
   "metadata": {},
   "outputs": [
    {
     "name": "stdout",
     "output_type": "stream",
     "text": [
      "['말뭉치', '한계', '의', '방식', '사용', '의문', '제기', '카운트', '벡터', '빈도', '단어', '모든', '문서', '특정', '키', '워드', '계속', '이', '과연', '건가', '여러분', '여러분', '여러분', '카운팅', '빈도', '단어', '더', '문서', '오히려', '그', '단어', '별로', '단어', '빈도', '역', '문서', '빈도']\n"
     ]
    }
   ],
   "source": [
    "print(k.nouns(data))"
   ]
  },
  {
   "cell_type": "code",
   "execution_count": 58,
   "metadata": {},
   "outputs": [
    {
     "name": "stdout",
     "output_type": "stream",
     "text": [
      "[('###', 'Punctuation'), ('Bow', 'Alpha'), ('(', 'Punctuation'), ('Bag', 'Alpha'), ('of', 'Alpha'), ('Words', 'Alpha'), (')', 'Punctuation'), ('말뭉치', 'Noun'), ('에', 'Josa'), ('한계', 'Noun'), ('가', 'Josa'), ('있어서', 'Adjective'), ('->', 'Punctuation'), ('TF', 'Alpha'), ('-', 'Punctuation'), ('IDF', 'Alpha'), ('의', 'Noun'), ('방식', 'Noun'), ('을', 'Josa'), ('사용', 'Noun'), ('한', 'Josa'), ('다', 'Adverb'), ('.', 'Punctuation'), ('\\n\\n', 'Foreign'), ('-', 'Punctuation'), ('의문', 'Noun'), ('제기', 'Noun'), (':', 'Punctuation'), ('카운트', 'Noun'), ('벡터', 'Noun'), ('는', 'Josa'), ('빈도', 'Noun'), ('가', 'Josa'), ('높을수록', 'Adjective'), ('중요한', 'Adjective'), ('단어', 'Noun'), ('아닌가', 'Adjective'), ('?', 'Punctuation'), ('-', 'Punctuation'), ('모든', 'Noun'), ('문서', 'Noun'), ('에', 'Josa'), ('동일하게', 'Adjective'), ('특정', 'Noun'), ('키', 'Noun'), ('워드', 'Noun'), ('가', 'Josa'), ('계속', 'Noun'), ('나오면', 'Verb'), ('이', 'Noun'), ('게', 'Josa'), ('과연', 'Noun'), ('중요한', 'Adjective'), ('건가', 'Noun'), ('?', 'Punctuation'), ('-', 'Punctuation'), ('여러분', 'Noun'), (',', 'Punctuation'), ('여러분', 'Noun'), ('여러분', 'Noun'), (',', 'Punctuation'), ('단순하게', 'Adjective'), ('카운팅', 'Noun'), ('으로', 'Josa'), ('봐서', 'Verb'), ('빈도', 'Noun'), ('가', 'Josa'), ('높으면', 'Adjective'), ('다', 'Adverb'), ('중요한가', 'Adjective'), ('?', 'Punctuation'), ('-', 'Punctuation'), ('단어', 'Noun'), ('가', 'Josa'), ('더', 'Noun'), ('많은', 'Adjective'), ('문서', 'Noun'), ('에', 'Josa'), ('나타날수록', 'Verb'), ('오히려', 'Noun'), ('그', 'Noun'), ('단어', 'Noun'), ('는', 'Josa'), ('별로', 'Noun'), ('중요하지', 'Adjective'), ('않다', 'Verb'), ('.', 'Punctuation'), ('-', 'Punctuation'), ('TF', 'Alpha'), ('-', 'Punctuation'), ('IDF', 'Alpha'), ('(', 'Punctuation'), ('Term', 'Alpha'), ('Frequency', 'Alpha'), ('-', 'Punctuation'), ('Inverse', 'Alpha'), ('Document', 'Alpha'), ('Frequency', 'Alpha'), (')', 'Punctuation'), ('단어', 'Noun'), ('빈도', 'Noun'), ('-', 'Punctuation'), ('역', 'Noun'), ('문서', 'Noun'), ('빈도', 'Noun'), ('\\n', 'Foreign')]\n"
     ]
    }
   ],
   "source": [
    "print(k.pos(data))"
   ]
  },
  {
   "cell_type": "code",
   "execution_count": 23,
   "metadata": {},
   "outputs": [
    {
     "data": {
      "text/html": [
       "<div>\n",
       "<style scoped>\n",
       "    .dataframe tbody tr th:only-of-type {\n",
       "        vertical-align: middle;\n",
       "    }\n",
       "\n",
       "    .dataframe tbody tr th {\n",
       "        vertical-align: top;\n",
       "    }\n",
       "\n",
       "    .dataframe thead th {\n",
       "        text-align: right;\n",
       "    }\n",
       "</style>\n",
       "<table border=\"1\" class=\"dataframe\">\n",
       "  <thead>\n",
       "    <tr style=\"text-align: right;\">\n",
       "      <th></th>\n",
       "      <th>Unnamed: 0</th>\n",
       "      <th>id</th>\n",
       "      <th>document</th>\n",
       "      <th>label</th>\n",
       "    </tr>\n",
       "  </thead>\n",
       "  <tbody>\n",
       "    <tr>\n",
       "      <th>0</th>\n",
       "      <td>0</td>\n",
       "      <td>9976970</td>\n",
       "      <td>아 더빙.. 진짜 짜증나네요 목소리</td>\n",
       "      <td>0</td>\n",
       "    </tr>\n",
       "    <tr>\n",
       "      <th>1</th>\n",
       "      <td>1</td>\n",
       "      <td>3819312</td>\n",
       "      <td>흠...포스터보고 초딩영화줄....오버연기조차 가볍지 않구나</td>\n",
       "      <td>1</td>\n",
       "    </tr>\n",
       "    <tr>\n",
       "      <th>2</th>\n",
       "      <td>2</td>\n",
       "      <td>10265843</td>\n",
       "      <td>너무재밓었다그래서보는것을추천한다</td>\n",
       "      <td>0</td>\n",
       "    </tr>\n",
       "    <tr>\n",
       "      <th>3</th>\n",
       "      <td>3</td>\n",
       "      <td>9045019</td>\n",
       "      <td>교도소 이야기구먼 ..솔직히 재미는 없다..평점 조정</td>\n",
       "      <td>0</td>\n",
       "    </tr>\n",
       "    <tr>\n",
       "      <th>4</th>\n",
       "      <td>4</td>\n",
       "      <td>6483659</td>\n",
       "      <td>사이몬페그의 익살스런 연기가 돋보였던 영화!스파이더맨에서 늙어보이기만 했던 커스틴 ...</td>\n",
       "      <td>1</td>\n",
       "    </tr>\n",
       "    <tr>\n",
       "      <th>...</th>\n",
       "      <td>...</td>\n",
       "      <td>...</td>\n",
       "      <td>...</td>\n",
       "      <td>...</td>\n",
       "    </tr>\n",
       "    <tr>\n",
       "      <th>149995</th>\n",
       "      <td>149995</td>\n",
       "      <td>6222902</td>\n",
       "      <td>인간이 문제지.. 소는 뭔죄인가..</td>\n",
       "      <td>0</td>\n",
       "    </tr>\n",
       "    <tr>\n",
       "      <th>149996</th>\n",
       "      <td>149996</td>\n",
       "      <td>8549745</td>\n",
       "      <td>평점이 너무 낮아서...</td>\n",
       "      <td>1</td>\n",
       "    </tr>\n",
       "    <tr>\n",
       "      <th>149997</th>\n",
       "      <td>149997</td>\n",
       "      <td>9311800</td>\n",
       "      <td>이게 뭐요? 한국인은 거들먹거리고 필리핀 혼혈은 착하다?</td>\n",
       "      <td>0</td>\n",
       "    </tr>\n",
       "    <tr>\n",
       "      <th>149998</th>\n",
       "      <td>149998</td>\n",
       "      <td>2376369</td>\n",
       "      <td>청춘 영화의 최고봉.방황과 우울했던 날들의 자화상</td>\n",
       "      <td>1</td>\n",
       "    </tr>\n",
       "    <tr>\n",
       "      <th>149999</th>\n",
       "      <td>149999</td>\n",
       "      <td>9619869</td>\n",
       "      <td>한국 영화 최초로 수간하는 내용이 담긴 영화</td>\n",
       "      <td>0</td>\n",
       "    </tr>\n",
       "  </tbody>\n",
       "</table>\n",
       "<p>150000 rows × 4 columns</p>\n",
       "</div>"
      ],
      "text/plain": [
       "        Unnamed: 0        id  \\\n",
       "0                0   9976970   \n",
       "1                1   3819312   \n",
       "2                2  10265843   \n",
       "3                3   9045019   \n",
       "4                4   6483659   \n",
       "...            ...       ...   \n",
       "149995      149995   6222902   \n",
       "149996      149996   8549745   \n",
       "149997      149997   9311800   \n",
       "149998      149998   2376369   \n",
       "149999      149999   9619869   \n",
       "\n",
       "                                                 document  label  \n",
       "0                                     아 더빙.. 진짜 짜증나네요 목소리      0  \n",
       "1                       흠...포스터보고 초딩영화줄....오버연기조차 가볍지 않구나      1  \n",
       "2                                       너무재밓었다그래서보는것을추천한다      0  \n",
       "3                           교도소 이야기구먼 ..솔직히 재미는 없다..평점 조정      0  \n",
       "4       사이몬페그의 익살스런 연기가 돋보였던 영화!스파이더맨에서 늙어보이기만 했던 커스틴 ...      1  \n",
       "...                                                   ...    ...  \n",
       "149995                                인간이 문제지.. 소는 뭔죄인가..      0  \n",
       "149996                                      평점이 너무 낮아서...      1  \n",
       "149997                    이게 뭐요? 한국인은 거들먹거리고 필리핀 혼혈은 착하다?      0  \n",
       "149998                        청춘 영화의 최고봉.방황과 우울했던 날들의 자화상      1  \n",
       "149999                           한국 영화 최초로 수간하는 내용이 담긴 영화      0  \n",
       "\n",
       "[150000 rows x 4 columns]"
      ]
     },
     "execution_count": 23,
     "metadata": {},
     "output_type": "execute_result"
    }
   ],
   "source": [
    "import pandas as pd\n",
    "movie_df = pd.read_csv('movie_rv.csv')\n",
    "movie_df"
   ]
  },
  {
   "cell_type": "code",
   "execution_count": 24,
   "metadata": {},
   "outputs": [],
   "source": [
    "# na값 확인\n",
    "movie_df['document'] = movie_df['document'].fillna(0)\n",
    "movie_df['document'] = movie_df['document'].astype(str)"
   ]
  },
  {
   "cell_type": "code",
   "execution_count": 25,
   "metadata": {},
   "outputs": [],
   "source": [
    "movie_df_sample = movie_df.iloc[:50000]"
   ]
  },
  {
   "cell_type": "code",
   "execution_count": 26,
   "metadata": {},
   "outputs": [
    {
     "data": {
      "text/html": [
       "<div>\n",
       "<style scoped>\n",
       "    .dataframe tbody tr th:only-of-type {\n",
       "        vertical-align: middle;\n",
       "    }\n",
       "\n",
       "    .dataframe tbody tr th {\n",
       "        vertical-align: top;\n",
       "    }\n",
       "\n",
       "    .dataframe thead th {\n",
       "        text-align: right;\n",
       "    }\n",
       "</style>\n",
       "<table border=\"1\" class=\"dataframe\">\n",
       "  <thead>\n",
       "    <tr style=\"text-align: right;\">\n",
       "      <th></th>\n",
       "      <th>Unnamed: 0</th>\n",
       "      <th>id</th>\n",
       "      <th>document</th>\n",
       "      <th>label</th>\n",
       "    </tr>\n",
       "  </thead>\n",
       "  <tbody>\n",
       "    <tr>\n",
       "      <th>0</th>\n",
       "      <td>0</td>\n",
       "      <td>9976970</td>\n",
       "      <td>아 더빙.. 진짜 짜증나네요 목소리</td>\n",
       "      <td>0</td>\n",
       "    </tr>\n",
       "    <tr>\n",
       "      <th>1</th>\n",
       "      <td>1</td>\n",
       "      <td>3819312</td>\n",
       "      <td>흠...포스터보고 초딩영화줄....오버연기조차 가볍지 않구나</td>\n",
       "      <td>1</td>\n",
       "    </tr>\n",
       "    <tr>\n",
       "      <th>2</th>\n",
       "      <td>2</td>\n",
       "      <td>10265843</td>\n",
       "      <td>너무재밓었다그래서보는것을추천한다</td>\n",
       "      <td>0</td>\n",
       "    </tr>\n",
       "    <tr>\n",
       "      <th>3</th>\n",
       "      <td>3</td>\n",
       "      <td>9045019</td>\n",
       "      <td>교도소 이야기구먼 ..솔직히 재미는 없다..평점 조정</td>\n",
       "      <td>0</td>\n",
       "    </tr>\n",
       "    <tr>\n",
       "      <th>4</th>\n",
       "      <td>4</td>\n",
       "      <td>6483659</td>\n",
       "      <td>사이몬페그의 익살스런 연기가 돋보였던 영화!스파이더맨에서 늙어보이기만 했던 커스틴 ...</td>\n",
       "      <td>1</td>\n",
       "    </tr>\n",
       "    <tr>\n",
       "      <th>...</th>\n",
       "      <td>...</td>\n",
       "      <td>...</td>\n",
       "      <td>...</td>\n",
       "      <td>...</td>\n",
       "    </tr>\n",
       "    <tr>\n",
       "      <th>49995</th>\n",
       "      <td>49995</td>\n",
       "      <td>9928869</td>\n",
       "      <td>\"이게 소위 스페인식 Neo-realism 이란 건가? - 물론, \"\"아동 판타지\"...</td>\n",
       "      <td>1</td>\n",
       "    </tr>\n",
       "    <tr>\n",
       "      <th>49996</th>\n",
       "      <td>49996</td>\n",
       "      <td>4489208</td>\n",
       "      <td>보지마셈 저 믿으세요 보지마셈</td>\n",
       "      <td>0</td>\n",
       "    </tr>\n",
       "    <tr>\n",
       "      <th>49997</th>\n",
       "      <td>49997</td>\n",
       "      <td>1606591</td>\n",
       "      <td>최고졸작</td>\n",
       "      <td>0</td>\n",
       "    </tr>\n",
       "    <tr>\n",
       "      <th>49998</th>\n",
       "      <td>49998</td>\n",
       "      <td>8506407</td>\n",
       "      <td>재밌고 좋았음 10자 쓰라고?!</td>\n",
       "      <td>1</td>\n",
       "    </tr>\n",
       "    <tr>\n",
       "      <th>49999</th>\n",
       "      <td>49999</td>\n",
       "      <td>3564795</td>\n",
       "      <td>소박하지만 잔잔한 감동을 주는 영화.</td>\n",
       "      <td>1</td>\n",
       "    </tr>\n",
       "  </tbody>\n",
       "</table>\n",
       "<p>50000 rows × 4 columns</p>\n",
       "</div>"
      ],
      "text/plain": [
       "       Unnamed: 0        id  \\\n",
       "0               0   9976970   \n",
       "1               1   3819312   \n",
       "2               2  10265843   \n",
       "3               3   9045019   \n",
       "4               4   6483659   \n",
       "...           ...       ...   \n",
       "49995       49995   9928869   \n",
       "49996       49996   4489208   \n",
       "49997       49997   1606591   \n",
       "49998       49998   8506407   \n",
       "49999       49999   3564795   \n",
       "\n",
       "                                                document  label  \n",
       "0                                    아 더빙.. 진짜 짜증나네요 목소리      0  \n",
       "1                      흠...포스터보고 초딩영화줄....오버연기조차 가볍지 않구나      1  \n",
       "2                                      너무재밓었다그래서보는것을추천한다      0  \n",
       "3                          교도소 이야기구먼 ..솔직히 재미는 없다..평점 조정      0  \n",
       "4      사이몬페그의 익살스런 연기가 돋보였던 영화!스파이더맨에서 늙어보이기만 했던 커스틴 ...      1  \n",
       "...                                                  ...    ...  \n",
       "49995  \"이게 소위 스페인식 Neo-realism 이란 건가? - 물론, \"\"아동 판타지\"...      1  \n",
       "49996                                   보지마셈 저 믿으세요 보지마셈      0  \n",
       "49997                                               최고졸작      0  \n",
       "49998                                  재밌고 좋았음 10자 쓰라고?!      1  \n",
       "49999                               소박하지만 잔잔한 감동을 주는 영화.      1  \n",
       "\n",
       "[50000 rows x 4 columns]"
      ]
     },
     "execution_count": 26,
     "metadata": {},
     "output_type": "execute_result"
    }
   ],
   "source": [
    "movie_df_sample"
   ]
  },
  {
   "cell_type": "markdown",
   "metadata": {},
   "source": [
    "## 수치로 어떻게 나타내나? -> 문서에 대한 카운트 기반으로 생각할 수 있다.  \n",
    "- CountVectorizer 패키지를 사용하면 쉽게 벡터화해서 데이터를 전처리할 수 있다.  \n",
    "- { '원데이':3, '클래스':2 }"
   ]
  },
  {
   "cell_type": "code",
   "execution_count": 27,
   "metadata": {},
   "outputs": [],
   "source": [
    "from sklearn.feature_extraction.text import CountVectorizer"
   ]
  },
  {
   "cell_type": "code",
   "execution_count": 37,
   "metadata": {},
   "outputs": [
    {
     "name": "stdout",
     "output_type": "stream",
     "text": [
      "corpus 사용한 피처는 무엇인지 확인하는 것 ['and' 'corpus' 'first' 'is' 'one' 'second' 'the' 'third' 'this']\n",
      "----\n",
      "내가 원하는 매트릭스를 보고 싶다!\n",
      " [[0 1 1 1 0 0 1 0 1]\n",
      " [0 2 0 1 0 1 1 0 1]\n",
      " [1 1 0 1 1 0 1 1 1]\n",
      " [0 1 1 1 0 0 1 0 1]]\n"
     ]
    }
   ],
   "source": [
    "# 예시 리스트\n",
    "corpus = [\n",
    "    'This is the first corpus',\n",
    "    'This corpus is the second corpus',\n",
    "    'And this corpus is the third one',\n",
    "    'Is this the first corpus?'\n",
    "]\n",
    "\n",
    "cv = CountVectorizer()\n",
    "# 위의 리스트들을 행렬화해야한다.\n",
    "# 행렬화를 하기 위해서는 fit_transform을 사용한다.\n",
    "\n",
    "# 문서를 벡터로 변환\n",
    "X = cv.fit_transform(corpus)\n",
    "\n",
    "# 변환 결과를 출력\n",
    "print('corpus 사용한 피처는 무엇인지 확인하는 것', cv.get_feature_names_out())\n",
    "print('----')\n",
    "print('내가 원하는 매트릭스를 보고 싶다!\\n', X.toarray()) # 숫자의 의미는 단어의 빈도수를 의미한다."
   ]
  },
  {
   "cell_type": "markdown",
   "metadata": {},
   "source": [
    "- ['and' 'corpus' 'first' 'is' 'one' 'second' 'the' 'third' 'this']  \n",
    "- corpus의 리스트[0] ~ [3] 리뷰에 카운팅을 계산해서 -> 행렬 변환이 된다."
   ]
  },
  {
   "cell_type": "code",
   "execution_count": 29,
   "metadata": {},
   "outputs": [
    {
     "data": {
      "text/plain": [
       "<4x9 sparse matrix of type '<class 'numpy.int64'>'\n",
       "\twith 22 stored elements in Compressed Sparse Row format>"
      ]
     },
     "execution_count": 29,
     "metadata": {},
     "output_type": "execute_result"
    }
   ],
   "source": [
    "X"
   ]
  },
  {
   "cell_type": "code",
   "execution_count": 38,
   "metadata": {},
   "outputs": [],
   "source": [
    "## 한국어로 진행\n",
    "corpus_ko = [\n",
    "    '오늘 날씨는 매우 좋습니다',\n",
    "    '내일 날씨는 매우 좋을까요?',\n",
    "    '내일은 비가 올 것 같습니다',\n",
    "    '모두 내일은 우산을 준비하세요',\n",
    "    'BDA는 이제 곧 9기를 모집합니다',\n",
    "    '우리는 열심히 공부합니다',\n",
    "    '우리는 내일도 내일또 공부합니다'\n",
    "]"
   ]
  },
  {
   "cell_type": "code",
   "execution_count": 39,
   "metadata": {},
   "outputs": [
    {
     "name": "stdout",
     "output_type": "stream",
     "text": [
      "corpus 사용한 피처는 무엇인지 확인하는 것 ['9기를' 'bda는' '같습니다' '공부합니다' '날씨는' '내일' '내일도' '내일또' '내일은' '매우' '모두'\n",
      " '모집합니다' '비가' '열심히' '오늘' '우리는' '우산을' '이제' '좋습니다' '좋을까요' '준비하세요']\n",
      "----\n",
      "내가 원하는 매트릭스를 보고 싶다!\n",
      " [[0 0 0 0 1 0 0 0 0 1 0 0 0 0 1 0 0 0 1 0 0]\n",
      " [0 0 0 0 1 1 0 0 0 1 0 0 0 0 0 0 0 0 0 1 0]\n",
      " [0 0 1 0 0 0 0 0 1 0 0 0 1 0 0 0 0 0 0 0 0]\n",
      " [0 0 0 0 0 0 0 0 1 0 1 0 0 0 0 0 1 0 0 0 1]\n",
      " [1 1 0 0 0 0 0 0 0 0 0 1 0 0 0 0 0 1 0 0 0]\n",
      " [0 0 0 1 0 0 0 0 0 0 0 0 0 1 0 1 0 0 0 0 0]\n",
      " [0 0 0 1 0 0 1 1 0 0 0 0 0 0 0 1 0 0 0 0 0]]\n"
     ]
    }
   ],
   "source": [
    "# CountVectorizer\n",
    "cv = CountVectorizer()\n",
    "\n",
    "# 문서를 벡터로 변환\n",
    "X = cv.fit_transform(corpus_ko)\n",
    "\n",
    "# 변환 결과를 출력\n",
    "print('corpus 사용한 피처는 무엇인지 확인하는 것', cv.get_feature_names_out())\n",
    "print('----')\n",
    "print('내가 원하는 매트릭스를 보고 싶다!\\n', X.toarray()) # 숫자의 의미는 단어의 빈도수를 의미한다.\n",
    "# 이 경우 내일이라는 단어가 3번 나왔다. (내일, 내일도, 내일은, 내일또) -> 이것이 의미있는 차원인가? 전처리가 필요하다."
   ]
  },
  {
   "cell_type": "code",
   "execution_count": 40,
   "metadata": {},
   "outputs": [],
   "source": [
    "# 불용어 추가하기!\n",
    "stop_words = ['bda는']"
   ]
  },
  {
   "cell_type": "code",
   "execution_count": 41,
   "metadata": {},
   "outputs": [
    {
     "name": "stdout",
     "output_type": "stream",
     "text": [
      "corpus 사용한 피처는 무엇인지 확인하는 것 ['9기를' '같습니다' '공부합니다' '날씨는' '내일' '내일도' '내일또' '내일은' '매우' '모두' '모집합니다' '비가'\n",
      " '열심히' '오늘' '우리는' '우산을' '이제' '좋습니다' '좋을까요' '준비하세요']\n",
      "----\n",
      "내가 원하는 매트릭스를 보고 싶다!\n",
      " [[0 0 0 1 0 0 0 0 1 0 0 0 0 1 0 0 0 1 0 0]\n",
      " [0 0 0 1 1 0 0 0 1 0 0 0 0 0 0 0 0 0 1 0]\n",
      " [0 1 0 0 0 0 0 1 0 0 0 1 0 0 0 0 0 0 0 0]\n",
      " [0 0 0 0 0 0 0 1 0 1 0 0 0 0 0 1 0 0 0 1]\n",
      " [1 0 0 0 0 0 0 0 0 0 1 0 0 0 0 0 1 0 0 0]\n",
      " [0 0 1 0 0 0 0 0 0 0 0 0 1 0 1 0 0 0 0 0]\n",
      " [0 0 1 0 0 1 1 0 0 0 0 0 0 0 1 0 0 0 0 0]]\n"
     ]
    }
   ],
   "source": [
    "# CountVectorizer\n",
    "cv = CountVectorizer(stop_words = stop_words)\n",
    "\n",
    "# 문서를 벡터로 변환\n",
    "X = cv.fit_transform(corpus_ko)\n",
    "\n",
    "# 변환 결과를 출력\n",
    "print('corpus 사용한 피처는 무엇인지 확인하는 것', cv.get_feature_names_out())\n",
    "print('----')\n",
    "print('내가 원하는 매트릭스를 보고 싶다!\\n', X.toarray()) # 숫자의 의미는 단어의 빈도수를 의미한다.\n",
    "# 'bda는'이라는 단어가 사라졌다."
   ]
  },
  {
   "cell_type": "code",
   "execution_count": 42,
   "metadata": {},
   "outputs": [
    {
     "data": {
      "text/plain": [
       "<7x20 sparse matrix of type '<class 'numpy.int64'>'\n",
       "\twith 25 stored elements in Compressed Sparse Row format>"
      ]
     },
     "execution_count": 42,
     "metadata": {},
     "output_type": "execute_result"
    }
   ],
   "source": [
    "X\n",
    "#\n",
    "## 7x20\n",
    "## 7 : 개의 문서 즉, 7개의 문장들을 의미한다.\n",
    "# corpus_ko = [\n",
    "    #    '오늘 날씨는 매우 좋습니다',\n",
    "    #    '내일 날씨는 매우 좋을까요?',\n",
    "    #    '내일은 비가 올 것 같습니다',\n",
    "    #    '모두 내일은 우산을 준비하세요',\n",
    "    #    'BDA는 이제 곧 9기를 모집합니다',\n",
    "    #    '우리는 열심히 공부합니다',\n",
    "    #    '우리는 내일도 내일또 공부합니다'\n",
    "    # ]\n",
    "    \n",
    "## 20 : 고유 단어수로 벡터화된 특징 수\n",
    "    # ['9기를' '같습니다' '공부합니다' '날씨는' '내일' '내일도' '내일또' '내일은' '매우' '모두' '모집합니다' '비가'\n",
    "     # '열심히' '오늘' '우리는' '우산을' '이제' '좋습니다' '좋을까요' '준비하세요']\n",
    "     \n",
    "## 행렬에서 0이 아닌 요소의 수를 세어서 반환 7 x 20 = 140\n",
    "\n",
    "## 25 : 0이 아닌 요소가 25개, 나머지는 모두 0이다.\n",
    "    #  [[0 0 0 1 0 0 0 0 1 0 0 0 0 1 0 0 0 1 0 0]\n",
    "    #  [0 0 0 1 1 0 0 0 1 0 0 0 0 0 0 0 0 0 1 0]\n",
    "    #  [0 1 0 0 0 0 0 1 0 0 0 1 0 0 0 0 0 0 0 0]\n",
    "    #  [0 0 0 0 0 0 0 1 0 1 0 0 0 0 0 1 0 0 0 1]\n",
    "    #  [1 0 0 0 0 0 0 0 0 0 1 0 0 0 0 0 1 0 0 0]\n",
    "    #  [0 0 1 0 0 0 0 0 0 0 0 0 1 0 1 0 0 0 0 0]\n",
    "    #  [0 0 1 0 0 1 1 0 0 0 0 0 0 0 1 0 0 0 0 0]]\n",
    "    \n",
    "## 희소한지의 비율 0의 비율"
   ]
  },
  {
   "cell_type": "code",
   "execution_count": 43,
   "metadata": {},
   "outputs": [
    {
     "data": {
      "text/plain": [
       "115"
      ]
     },
     "execution_count": 43,
     "metadata": {},
     "output_type": "execute_result"
    }
   ],
   "source": [
    "140-25"
   ]
  },
  {
   "cell_type": "code",
   "execution_count": 44,
   "metadata": {},
   "outputs": [
    {
     "data": {
      "text/plain": [
       "0.8214285714285714"
      ]
     },
     "execution_count": 44,
     "metadata": {},
     "output_type": "execute_result"
    }
   ],
   "source": [
    "# 0의 희소에 대한 비율 계산\n",
    "115/140"
   ]
  }
 ],
 "metadata": {
  "kernelspec": {
   "display_name": "Python 3",
   "language": "python",
   "name": "python3"
  },
  "language_info": {
   "codemirror_mode": {
    "name": "ipython",
    "version": 3
   },
   "file_extension": ".py",
   "mimetype": "text/x-python",
   "name": "python",
   "nbconvert_exporter": "python",
   "pygments_lexer": "ipython3",
   "version": "3.11.4"
  }
 },
 "nbformat": 4,
 "nbformat_minor": 2
}
